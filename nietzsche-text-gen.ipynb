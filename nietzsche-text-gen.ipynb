{
 "cells": [
  {
   "cell_type": "code",
   "execution_count": null,
   "metadata": {},
   "outputs": [],
   "source": [
    "# d6591\n",
    "# Can we generate stuff that Nietzsche could have said?? Or William Shakespeare\n",
    "import keras \n",
    "import numpy as np\n",
    "\n",
    "#path = keras.utils.get_file(-'nietzsche.txt', origin='https://s3.amazonaws.com/text-datasets/nietzsche.txt')\n",
    "path = 'lotr_full.txt'\n",
    "text = open(path, encoding = \"ISO-8859-1\").read().lower()\n",
    "print('Corpus length:', len(text))\n",
    "text = text[:1000000]  # Limit it to only the first 500,000 chars\n",
    "print('Limited to length of:', len(text))"
   ]
  },
  {
   "cell_type": "code",
   "execution_count": null,
   "metadata": {
    "pycharm": {
     "name": "#%%\n"
    }
   },
   "outputs": [],
   "source": [
    "# Process the data (vectorise and one hot encode)\n",
    "maxlen = 60  # Sequences 60 chars in length\n",
    "step = 3  # Sample every three characters\n",
    "sentences = []  # x\n",
    "next_chars = []  # y (what comes next after x)\n",
    "\n",
    "for i in range(0, len(text) - maxlen, step):  # Iterate through all the text\n",
    "    sentences.append(text[i: i+maxlen])\n",
    "    next_chars.append(text[i+maxlen])\n",
    "    \n",
    "print('%s individual sequences.' % len(sentences))\n",
    "\n",
    "chars = sorted(list(set(text)))  # List the unique chars\n",
    "print('%s unique characters.' % len(chars))\n",
    "char_indices = dict((char, chars.index(char)) for char in chars)\n",
    "\n",
    "# Vectorisation\n",
    "x = np.zeros((len(sentences), maxlen, len(chars)), dtype=np.bool)\n",
    "y = np.zeros((len(sentences), len(chars)), dtype=np.bool)\n",
    "for i, sentence in enumerate(sentences):\n",
    "    for t, char in enumerate(sentence):\n",
    "        x[i, t, char_indices[char]] = 1  # Set the correct point \"hot\"\n",
    "    y[i, char_indices[next_chars[i]]] = 1\n",
    "    "
   ]
  },
  {
   "cell_type": "code",
   "execution_count": null,
   "metadata": {
    "pycharm": {
     "name": "#%%\n"
    }
   },
   "outputs": [],
   "source": [
    "# Build the network\n",
    "from keras import layers\n",
    "\n",
    "model = keras.models.Sequential()\n",
    "model.add(layers.LSTM(128, input_shape=(maxlen, len(chars))))\n",
    "#model.add(layers.LSTM(128))\n",
    "model.add(layers.Dense(len(chars), activation='softmax'))  # One output for each character\n",
    "model.compile(loss='categorical_crossentropy',\n",
    "              optimizer=keras.optimizers.RMSprop(lr=0.01))\n",
    "model.summary()"
   ]
  },
  {
   "cell_type": "code",
   "execution_count": null,
   "metadata": {
    "pycharm": {
     "name": "#%%\n"
    },
    "scrolled": false
   },
   "outputs": [],
   "source": [
    "def sample(preds, temperature=1.0):  # Reweight the distribution\n",
    "    preds = np.asarray(preds).astype('float64')\n",
    "    preds = np.log(preds) / temperature\n",
    "    exp_preds = np.exp(preds)\n",
    "    preds = exp_preds / np.sum(exp_preds)\n",
    "    probas = np.random.multinomial(1, preds, 1)\n",
    "    return np.argmax(probas)\n",
    "\n",
    "# Train and generate text from the model\n",
    "import random\n",
    "import sys\n",
    "\n",
    "for epoch in range(1, 60):  # training over 60 epochs\n",
    "    print('epoch %s.' % epoch)\n",
    "    model.fit(x, y,\n",
    "              batch_size=128,\n",
    "              epochs=1)\n",
    "    # Get a random seed\n",
    "    start_index = random.randint(0, len(text)-maxlen-1)\n",
    "    generated_text = text[start_index:start_index+maxlen]\n",
    "    print('--- Generating with seed: \"' + generated_text + '\"')\n",
    "    \n",
    "    for temperature in [0.2, 0.5, 1.0, 1.2]:  # Dunno which one is best at the moment\n",
    "        print('------ temperature:', temperature)\n",
    "        sys.stdout.write(generated_text)\n",
    "        for i in range(400):  # generate 400 chars from the starting seed\n",
    "            sampled = np.zeros((1, maxlen, len(chars)))\n",
    "            for t, char in enumerate(generated_text):\n",
    "                sampled[0, t, char_indices[char]] = 1  # One hot encode it\n",
    "                \n",
    "            preds = model.predict(sampled, verbose=0)[0]\n",
    "            next_index = sample(preds, temperature)\n",
    "            next_char = chars[next_index]  # Find the next char\n",
    "            \n",
    "            generated_text += next_char\n",
    "            generated_text = generated_text[1:]  # Move it over by 1\n",
    "            \n",
    "            sys.stdout.write(next_char)\n",
    "            sys.stdout.flush()\n",
    "        print()\n",
    "        "
   ]
  }
 ],
 "metadata": {
  "kernelspec": {
   "display_name": "Python 3",
   "language": "python",
   "name": "python3"
  },
  "language_info": {
   "codemirror_mode": {
    "name": "ipython",
    "version": 3
   },
   "file_extension": ".py",
   "mimetype": "text/x-python",
   "name": "python",
   "nbconvert_exporter": "python",
   "pygments_lexer": "ipython3",
   "version": "3.6.6"
  }
 },
 "nbformat": 4,
 "nbformat_minor": 1
}